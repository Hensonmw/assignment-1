{
 "cells": [
  {
   "cell_type": "code",
   "execution_count": 1,
   "metadata": {
    "collapsed": false
   },
   "outputs": [
    {
     "name": "stdout",
     "output_type": "stream",
     "text": [
      "Guido van Rossum is a Dutch computer programmer who is best known as the author of the Python programming language and currently workks for Dropbox\n"
     ]
    }
   ],
   "source": [
    "print (\"Guido van Rossum is a Dutch computer programmer who is best known as the author of the Python programming language and currently workks for Dropbox\")"
   ]
  },
  {
   "cell_type": "code",
   "execution_count": null,
   "metadata": {
    "collapsed": true
   },
   "outputs": [],
   "source": [
    "Credit: https://en.wikipedia.org/wiki/Guido_van_Rossum (accessed 18Jan2016)"
   ]
  },
  {
   "cell_type": "code",
   "execution_count": 2,
   "metadata": {
    "collapsed": false
   },
   "outputs": [
    {
     "name": "stdout",
     "output_type": "stream",
     "text": [
      "Hello, World\n"
     ]
    }
   ],
   "source": [
    "print (\"Hello, World\")"
   ]
  },
  {
   "cell_type": "code",
   "execution_count": null,
   "metadata": {
    "collapsed": true
   },
   "outputs": [],
   "source": [
    "#\"Hello, World\" is the most famous and first programming exercise. A \"Hello, World!\" program is a computer program that outputs \"Hello, World!\" on a display device. Being a very simple program in most programming languages, it is often used to illustrate to beginning programmers the basic syntax for constructing a working program. It is also used to verify that a language or system is operating correctly.\n",
    "##While small test programs existed since the development of programmable computers, the tradition of using the phrase \"Hello world!\" as a test message was influenced by an example program in the seminal book The C Programming Language.\n",
    "Credit: https://en.wikipedia.org/wiki/%22Hello,_World!%22_program (accessed 18 Jan 2016)"
   ]
  },
  {
   "cell_type": "code",
   "execution_count": 4,
   "metadata": {
    "collapsed": false
   },
   "outputs": [
    {
     "name": "stdout",
     "output_type": "stream",
     "text": [
      "4004\n"
     ]
    }
   ],
   "source": [
    "A=1988\n",
    "B=2016\n",
    "sum = A+B\n",
    "print (sum)"
   ]
  },
  {
   "cell_type": "code",
   "execution_count": 5,
   "metadata": {
    "collapsed": false
   },
   "outputs": [
    {
     "name": "stdout",
     "output_type": "stream",
     "text": [
      "1.5\n"
     ]
    }
   ],
   "source": [
    "A=3\n",
    "B=2\n",
    "divide = A/B\n",
    "print (divide)"
   ]
  },
  {
   "cell_type": "code",
   "execution_count": null,
   "metadata": {
    "collapsed": true
   },
   "outputs": [],
   "source": [
    "This is expected answer because half (1/2) of 3 is 1.5"
   ]
  },
  {
   "cell_type": "code",
   "execution_count": 6,
   "metadata": {
    "collapsed": false
   },
   "outputs": [
    {
     "data": {
      "text/plain": [
       "[0, 5, 10, 15, 20, 25, 30, 35, 40, 45]"
      ]
     },
     "execution_count": 6,
     "metadata": {},
     "output_type": "execute_result"
    }
   ],
   "source": [
    "list (range(0,50,5))"
   ]
  },
  {
   "cell_type": "raw",
   "metadata": {},
   "source": [
    "Credit:http://www.python-course.eu/python3_for_loop.php (accessed 18 Jan 2016)"
   ]
  },
  {
   "cell_type": "code",
   "execution_count": 8,
   "metadata": {
    "collapsed": false
   },
   "outputs": [
    {
     "data": {
      "text/plain": [
       "array([887026, 476551, 737015, 477174, 230584, 620733, 264502, 793131,\n",
       "       195603, 910286])"
      ]
     },
     "execution_count": 8,
     "metadata": {},
     "output_type": "execute_result"
    }
   ],
   "source": [
    "import numpy as np\n",
    "np.random.random_integers(0,1000000,10)"
   ]
  },
  {
   "cell_type": "code",
   "execution_count": null,
   "metadata": {
    "collapsed": true
   },
   "outputs": [],
   "source": [
    "Credit:http://docs.scipy.org/doc/numpy-1.10.0/reference/generated/numpy.random.random_integers.html#numpy.random.random_integers (accessed 18 Jan 2016)"
   ]
  },
  {
   "cell_type": "code",
   "execution_count": null,
   "metadata": {
    "collapsed": true
   },
   "outputs": [],
   "source": [
    "Python is what is known as a zero-indexed programming language. Illustrate what this means."
   ]
  },
  {
   "cell_type": "code",
   "execution_count": null,
   "metadata": {
    "collapsed": true
   },
   "outputs": [],
   "source": [
    "Zero-based indexing is a way of numbering in which the initial element of a sequence is assigned as the index 0, rather than the index 1. In computer science, array indices usually start at 0 in modern programming languages, so computer programmers might use zeroth in situations where others might use first, and so forth.\n",
    "For example: PYTHON, where P's position is zeroth, Y's position is 1 and so on. \n",
    "Credit: https://en.wikipedia.org/wiki/Zero-based_numbering (accessed 18 Jan 2016)"
   ]
  }
 ],
 "metadata": {
  "kernelspec": {
   "display_name": "Python 3",
   "language": "python",
   "name": "python3"
  },
  "language_info": {
   "codemirror_mode": {
    "name": "ipython",
    "version": 3
   },
   "file_extension": ".py",
   "mimetype": "text/x-python",
   "name": "python",
   "nbconvert_exporter": "python",
   "pygments_lexer": "ipython3",
   "version": "3.5.1"
  }
 },
 "nbformat": 4,
 "nbformat_minor": 0
}
