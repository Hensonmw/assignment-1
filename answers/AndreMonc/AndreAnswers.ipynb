{
 "cells": [
  {
   "cell_type": "code",
   "execution_count": 1,
   "metadata": {
    "collapsed": false
   },
   "outputs": [
    {
     "name": "stdout",
     "output_type": "stream",
     "text": [
      "Answer1:He is the person that developed the python programming language (per Wikipedia https://en.wikipedia.org/wiki/Guido_van_Rossum, accessed 14 Jan 2016\n"
     ]
    }
   ],
   "source": [
    "#Question1: Who in the hell is Guido Van Rossum? Have Python print the answer, using jupyter",
    "print(\"Answer1:He is the person that developed the python programming language/n (per Wikipedia https://en.wikipedia.org/wiki/Guido_van_Rossum, accessed 14 Jan 2016\")"
   ]
  },
  {
   "cell_type": "code",
   "execution_count": 2,
   "metadata": {
    "collapsed": false
   },
   "outputs": [
    {
     "name": "stdout",
     "output_type": "stream",
     "text": [
      "Answer2: The most famous first programming exercise is to print the words 'Hello world'. This phrase was apparently first used as a program output by Brian Kernighan in the documentation for the BCPL language./n per http://stackoverflow.com/questions/602237/where-does-hello-world-come-from\n",
      "Hello world"
     ]
    }
   ],
   "source": [
    "#Question2: Explain (what it is) and execute the most famous first programming exercise. Where does this #come from? Feel free to just add your answer to the iPython notebook as markdown-formatted text.\n",
    "print(\"Answer2: The most famous first programming exercise is to print the words 'Hello world'. This phrase was apparently first used as a program output by Brian Kernighan in the documentation for the BCPL language./n per http://stackoverflow.com/questions/602237/where-does-hello-world-come-from\")\n",
    "print(\"Hello world\")"
   ]
  },
  {
   "cell_type": "code",
   "execution_count": 3,
   "metadata": {
    "collapsed": false
   },
   "outputs": [
    {
     "name": "stdout",
     "output_type": "stream",
     "text": [
      "4006\n"
     ]
    }
   ],
   "source": [
    "#Question3: Produce the sum of the year of your birthday and the year of this class\n",
    "yearBirthday = 1990\n",
    "yearClass = 2016\n",
    "Answer = yearBirthday + yearClass\n",
    "print(Answer)\n",
    "\n"
   ]
  },
  {
   "cell_type": "code",
   "execution_count": 4,
   "metadata": {
    "collapsed": false
   },
   "outputs": [
    {
     "name": "stdout",
     "output_type": "stream",
     "text": [
      "1.5\n"
     ]
    }
   ],
   "source": [
    "#Question4: Divide 3 by 2 and return the expected result. Is this what you expected? Why or why not?\n",
    "print(3/2)\n",
    "#Yes, the answer 1.5 is what I expected because I know that three halves is equal to 1 1/2\n",
    "\n"
   ]
  },
  {
   "cell_type": "code",
   "execution_count": 5,
   "metadata": {
    "collapsed": false
   },
   "outputs": [
    {
     "name": "stdout",
     "output_type": "stream",
     "text": [
      "[0, 5, 10, 15, 20, 25, 30, 35, 40, 45, 50]\n"
     ]
    }
   ],
   "source": [
    "#Question5: Print the numbers 0 to 50 by 5 \n",
    "#I use 51 because upper end of range is exclusive \n",
    "Answer = (list(range(0,51,5)))\n",
    "print(Answer)\n",
    "\n"
   ]
  },
  {
   "cell_type": "code",
   "execution_count": 6,
   "metadata": {
    "collapsed": false
   },
   "outputs": [
    {
     "name": "stdout",
     "output_type": "stream",
     "text": [
      "[607585 568842 773171 331181  63784 410298 317268 803937 762567 285288]\n"
     ]
    }
   ],
   "source": [
    "#Question6: Draw and print 10 discrete numbers from a uniform distribution spanning the interval \n",
    "#[0,1000000]\n",
    "import numpy as np\n",
    "#I am using 1000001 because this value is exlusive\n",
    "print(np.random.randint(0,1000001,10))\n",
    "\n"
   ]
  },
  {
   "cell_type": "code",
   "execution_count": 7,
   "metadata": {
    "collapsed": false
   },
   "outputs": [
    {
     "name": "stdout",
     "output_type": "stream",
     "text": [
      "This means that the first element in a list, for instance, is the considered the 0th element\n",
      "0\n"
     ]
    }
   ],
   "source": [
    "#Question7: Python is what is known as a zero-indexed programming language. Illustrate what this means. \n",
    "print(\"This means that the first element in a list, for instance, is the considered the 0th element\")\n",
    "#I create list below\n",
    "list = [1,2,3,4,5]\n",
    "#Then I take take the index of the number 1 in the list, which is 0\n",
    "print(list.index(1))"
   ]
  },
  {
   "cell_type": "code",
   "execution_count": 8,
   "metadata": {
    "collapsed": false
   },
   "outputs": [
    {
     "name": "stdout",
     "output_type": "stream",
     "text": [
      "The Zen of Python, by Tim Peters\n",
      "\n",
      "Beautiful is better than ugly.\n",
      "Explicit is better than implicit.\n",
      "Simple is better than complex.\n",
      "Complex is better than complicated.\n",
      "Flat is better than nested.\n",
      "Sparse is better than dense.\n",
      "Readability counts.\n",
      "Special cases aren't special enough to break the rules.\n",
      "Although practicality beats purity.\n",
      "Errors should never pass silently.\n",
      "Unless explicitly silenced.\n",
      "In the face of ambiguity, refuse the temptation to guess.\n",
      "There should be one-- and preferably only one --obvious way to do it.\n",
      "Although that way may not be obvious at first unless you're Dutch.\n",
      "Now is better than never.\n",
      "Although never is often better than *right* now.\n",
      "If the implementation is hard to explain, it's a bad idea.\n",
      "If the implementation is easy to explain, it may be a good idea.\n",
      "Namespaces are one honking great idea -- let's do more of those!\n"
     ]
    }
   ],
   "source": [
    "import this"
   ]
  },
  {
   "cell_type": "code",
   "execution_count": null,
   "metadata": {
    "collapsed": true
   },
   "outputs": [],
   "source": []
  }
 ],
 "metadata": {
  "kernelspec": {
   "display_name": "Python 3",
   "language": "python",
   "name": "python3"
  },
  "language_info": {
   "codemirror_mode": {
    "name": "ipython",
    "version": 3
   },
   "file_extension": ".py",
   "mimetype": "text/x-python",
   "name": "python",
   "nbconvert_exporter": "python",
   "pygments_lexer": "ipython3",
   "version": "3.5.1"
  }
 },
 "nbformat": 4,
 "nbformat_minor": 0
}
