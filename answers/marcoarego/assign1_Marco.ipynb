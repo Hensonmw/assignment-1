{
 "cells": [
  {
   "cell_type": "code",
   "execution_count": 12,
   "metadata": {
    "collapsed": false
   },
   "outputs": [
    {
     "name": "stdout",
     "output_type": "stream",
     "text": [
      "\n",
      " Q1: Who in the hell is Guido Van Rossum?\n",
      " Answer: Guido Van Rossum is the guy who inveted the Python programming language (Wikipedia)\n",
      "\n",
      "  Q2: Explain (what it is) and execute the most famous first programming exercise.\n",
      " Where does this come from? Feel free to just add your answer to the iPython notebook \n",
      " as markdown-formatted text. \n",
      "\n",
      " Answer:  The most famous first programming exercise is 'Hello, World!'. \n",
      " It is often used to illustrate to beginning programmers the \n",
      " basic syntax for constructing a working program. It is also used to verify \n",
      " that a language or system is operating correctly. the tradition of using the phrase \n",
      " 'Hello world!' as a test message was influenced by an example program in the \n",
      " seminal book 'The C Programming Language'(Wikipedia). \n",
      " Hello, World!\n",
      "\n",
      "  Q3: Produce the sum of the year of your birthday and the year of this class \n",
      "\n",
      "  Answer:  3999\n",
      "\n",
      " Divide 3 by 2 and return the expected result. Is this what you expected? Why or why not? \n",
      "\n",
      "  Answer:  1.5 this is what I expected. I guess if this was in Python 2.x, the result would be 1 because we are dealing just with integers here\n",
      "\n",
      "  Q5: Print the numbers 0 to 50 by 5 \n",
      "\n",
      "  Answer:  [0, 5, 10, 15, 20, 25, 30, 35, 40, 45, 50]\n",
      "\n",
      " Draw and print 10 discrete numbers from a uniform distribution spanning the interval [0,1000000] \n",
      "\n",
      "  Answer:  [327669, 674781, 246763, 431926, 269728, 537072, 531279, 68121, 341746, 101763]\n",
      "\n",
      " [0, 1, 2, 3, 4, 5, 6, 7, 8, 9] \n",
      " Index Zero '[0]'=  0 \n",
      " Index Nine '[9]'= 9 \n",
      " Index Ten '[10]' is out of range (even though there are 10 numbers on the list)\n"
     ]
    }
   ],
   "source": [
    "\"\"\"Question 1\"\"\"\n",
    "# Who in the hell is Guido Van Rossum?\n",
    "answer1 = \"Guido Van Rossum is the guy who inveted the Python programming language (Wikipedia)\"\n",
    "print (\"\\n Q1: Who in the hell is Guido Van Rossum?\\n Answer:\", answer1)\n",
    "\n",
    "\"\"\"Question 2\"\"\"\n",
    "Q2 = ' Q2: Explain (what it is) and execute the most famous first programming exercise.\\n Where does this come from? Feel free to just add your answer to the iPython notebook \\n as markdown-formatted text.'\n",
    "answer2 = \"The most famous first programming exercise is 'Hello, World!'. \\n It is often used to illustrate to beginning programmers the \\n basic syntax for constructing a working program. It is also used to verify \\n that a language or system is operating correctly. the tradition of using the phrase \\n 'Hello world!' as a test message was influenced by an example program in the \\n seminal book 'The C Programming Language'(Wikipedia).\"\n",
    "print (\"\\n\",Q2, \"\\n\\n Answer: \", answer2,\"\\n Hello, World!\")\n",
    "\n",
    "\"\"\"Question 3\"\"\"\n",
    "Q3 = \" Q3: Produce the sum of the year of your birthday and the year of this class\"\n",
    "answer3 = 1983 + 2016\n",
    "print (\"\\n\",Q3, \"\\n\\n  Answer: \", answer3)\n",
    "\n",
    "'''Question 4'''\n",
    "Q4 = \"Divide 3 by 2 and return the expected result. Is this what you expected? Why or why not?\"\n",
    "answer4 = 3/2\n",
    "print (\"\\n\",Q4, \"\\n\\n  Answer: \", answer4, \"this is what I expected. I guess if this was in Python 2.x, the result would be 1 because we are dealing just with integers here\")\n",
    "\n",
    "\n",
    "'''Question 5'''\n",
    "Q5 = \" Q5: Print the numbers 0 to 50 by 5\"\n",
    "answer5 = list(range(0, 51, 5))\n",
    "print (\"\\n\",Q5, \"\\n\\n  Answer: \", answer5)\n",
    "\n",
    "\n",
    "'''Question 6'''\n",
    "Q6 = \"Draw and print 10 discrete numbers from a uniform distribution spanning the interval [0,1000000]\"\n",
    "from random import randint\n",
    "xList = [] #empty list that will keep random values of X (10 discrete numbers)\n",
    "for x in range (0,10):\n",
    "    x = (randint(0,1000000)) # generate random values\n",
    "    xList.append(x) #append random values of Xs in the list\n",
    "print (\"\\n\",Q6, \"\\n\\n  Answer: \", xList)\n",
    "\n",
    "\n",
    "'''Question 7'''\n",
    "Q7 = \"Python is what is known as a zero-indexed programming language. Illustrate what this means.\"\n",
    "aList = list(range(0,10))\n",
    "print (\"\\n\",aList,\"\\n Index Zero '[0]'= \", aList[0],\"\\n Index Nine '[9]'=\", aList[9], \"\\n Index Ten '[10]' is out of range (even though there are 10 numbers on the list)\")\n",
    "\n",
    "'''Question 8'''\n",
    "import this"
   ]
  }
 ],
 "metadata": {
  "kernelspec": {
   "display_name": "Python 3",
   "language": "python",
   "name": "python3"
  },
  "language_info": {
   "codemirror_mode": {
    "name": "ipython",
    "version": 3
   },
   "file_extension": ".py",
   "mimetype": "text/x-python",
   "name": "python",
   "nbconvert_exporter": "python",
   "pygments_lexer": "ipython3",
   "version": "3.5.1"
  }
 },
 "nbformat": 4,
 "nbformat_minor": 0
}
